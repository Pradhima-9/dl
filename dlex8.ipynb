{
  "nbformat": 4,
  "nbformat_minor": 0,
  "metadata": {
    "colab": {
      "provenance": [],
      "authorship_tag": "ABX9TyP4c0Aa6SutiGspL793HP9b",
      "include_colab_link": true
    },
    "kernelspec": {
      "name": "python3",
      "display_name": "Python 3"
    },
    "language_info": {
      "name": "python"
    }
  },
  "cells": [
    {
      "cell_type": "markdown",
      "metadata": {
        "id": "view-in-github",
        "colab_type": "text"
      },
      "source": [
        "<a href=\"https://colab.research.google.com/github/Pradhima-9/dl/blob/main/dlex8.ipynb\" target=\"_parent\"><img src=\"https://colab.research.google.com/assets/colab-badge.svg\" alt=\"Open In Colab\"/></a>"
      ]
    },
    {
      "cell_type": "code",
      "source": [
        "import numpy as np\n",
        "\n",
        "samples = {'Jupiter has 79 known moons.', 'Neptune has 14 confirmed moons!'}\n",
        "token_index = {}\n",
        "counter = 0\n",
        "\n",
        "# Build the token index\n",
        "for sample in samples:\n",
        "    for considered_word in sample.split():\n",
        "        if considered_word not in token_index:\n",
        "            token_index.update({considered_word: counter + 1})\n",
        "            counter = counter + 1\n",
        "\n",
        "print(token_index)\n",
        "# Expected output: {'Jupiter': 1, 'has': 2, '79': 3, 'known': 4, 'moons.': 5, 'Neptune': 6, '14': 7, 'confirmed': 8, 'moons!': 9}\n",
        "\n",
        "# Create the one-hot encoded representation\n",
        "max_length = 6  # Maximum length of a sentence\n",
        "results = np.zeros(shape=(len(samples), max_length, max(token_index.values()) + 1))\n",
        "\n",
        "for i, sample in enumerate(samples):\n",
        "    for j, considered_word in list(enumerate(sample.split())):\n",
        "        index = token_index.get(considered_word)\n",
        "\n",
        "        # Check if the word is in token_index and if j is within the bounds of max_length\n",
        "        if index is not None and j < max_length:\n",
        "            results[i, j, index] = 1.\n",
        "\n",
        "print(results) # Print the one-hot encoded results"
      ],
      "metadata": {
        "colab": {
          "base_uri": "https://localhost:8080/"
        },
        "id": "6jWtUEFXJ6MG",
        "outputId": "b30bf7f5-46ad-4c27-b1a6-a51150b1325b"
      },
      "execution_count": null,
      "outputs": [
        {
          "output_type": "stream",
          "name": "stdout",
          "text": [
            "{'Neptune': 1, 'has': 2, '14': 3, 'confirmed': 4, 'moons!': 5, 'Jupiter': 6, '79': 7, 'known': 8, 'moons.': 9}\n",
            "[[[0. 1. 0. 0. 0. 0. 0. 0. 0. 0.]\n",
            "  [0. 0. 1. 0. 0. 0. 0. 0. 0. 0.]\n",
            "  [0. 0. 0. 1. 0. 0. 0. 0. 0. 0.]\n",
            "  [0. 0. 0. 0. 1. 0. 0. 0. 0. 0.]\n",
            "  [0. 0. 0. 0. 0. 1. 0. 0. 0. 0.]\n",
            "  [0. 0. 0. 0. 0. 0. 0. 0. 0. 0.]]\n",
            "\n",
            " [[0. 0. 0. 0. 0. 0. 1. 0. 0. 0.]\n",
            "  [0. 0. 1. 0. 0. 0. 0. 0. 0. 0.]\n",
            "  [0. 0. 0. 0. 0. 0. 0. 1. 0. 0.]\n",
            "  [0. 0. 0. 0. 0. 0. 0. 0. 1. 0.]\n",
            "  [0. 0. 0. 0. 0. 0. 0. 0. 0. 1.]\n",
            "  [0. 0. 0. 0. 0. 0. 0. 0. 0. 0.]]]\n"
          ]
        }
      ]
    }
  ]
}